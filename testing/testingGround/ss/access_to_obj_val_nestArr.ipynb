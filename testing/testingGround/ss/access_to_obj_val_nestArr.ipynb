{
 "cells": [
  {
   "cell_type": "code",
   "execution_count": 53,
   "metadata": {},
   "outputs": [
    {
     "data": {
      "text/plain": [
       "list"
      ]
     },
     "execution_count": 53,
     "metadata": {},
     "output_type": "execute_result"
    }
   ],
   "source": [
    "nestArr = {\"key1\" : [[\"p1\", \"p2\"],[\"a\",\"b\"]]}\n",
    "arrA = nestArr[\"key1\"]\n",
    "type(arrA)\n",
    "\n",
    "# flat_list = [item for sublist in arrA for item in sublist]\n",
    "# infor = flat_list[0]\n",
    "# position = flat_list[1]\n",
    "\n",
    "# [ print(f\"{position[i]} {item}\") for i, item in enumerate(infor)]\n",
    "\n"
   ]
  }
 ],
 "metadata": {
  "kernelspec": {
   "display_name": "Python 3",
   "language": "python",
   "name": "python3"
  },
  "language_info": {
   "codemirror_mode": {
    "name": "ipython",
    "version": 3
   },
   "file_extension": ".py",
   "mimetype": "text/x-python",
   "name": "python",
   "nbconvert_exporter": "python",
   "pygments_lexer": "ipython3",
   "version": "3.8.5"
  }
 },
 "nbformat": 4,
 "nbformat_minor": 4
}
