{
 "cells": [
  {
   "cell_type": "code",
   "execution_count": 82,
   "metadata": {},
   "outputs": [],
   "source": [
    "import pandas as pd\n",
    "import re\n",
    "import numpy as np\n",
    "import typing"
   ]
  },
  {
   "cell_type": "code",
   "execution_count": 31,
   "metadata": {},
   "outputs": [],
   "source": [
    "path = \"../../dataVault/waste_edge_booking_data/23.12.2020_to_26.1.2021.csv\"\n",
    "df = pd.read_csv(path)\n",
    "# df['Route number'].astype('str')\n",
    "# actually change customer type in original frame\n",
    "\n",
    "df['Route number'] = df['Route number'].astype('str')"
   ]
  },
  {
   "cell_type": "code",
   "execution_count": 112,
   "metadata": {},
   "outputs": [],
   "source": [
    "def extract_weekday(df : object):\n",
    "        def split_weekday(route_num : str):\n",
    "            \n",
    "            weekday = route_num.split('-')\n",
    "            if len(weekday) < 2:\n",
    "                return 0\n",
    "            else:\n",
    "               return weekday[1]\n",
    "                \n",
    "        df['weekday'] = df['Route number'].apply(split_weekday)\n",
    "        return df"
   ]
  },
  {
   "cell_type": "code",
   "execution_count": 118,
   "metadata": {},
   "outputs": [],
   "source": [
    "def clean_route_num_column(df : object):\n",
    "\n",
    "        def clean_route_number(route_num : str):\n",
    "            cleaned_route_num = 0\n",
    "            if route_num is np.nan:\n",
    "                return cleaned_route_num\n",
    "            else:\n",
    "                cleaned_route_num = re.sub(r'-.', '',route_num)\n",
    "                \n",
    "            return cleaned_route_num\n",
    "\n",
    "        df['Route number'] = df['Route number'].apply(clean_route_number)\n",
    "        return df"
   ]
  },
  {
   "cell_type": "code",
   "execution_count": 99,
   "metadata": {},
   "outputs": [],
   "source": [
    " def transform_date_format(df: object):\n",
    "        df['Date_idx'] = pd.to_datetime(df['Date'],format='%d/%m/%y')\n",
    "        df = df.set_index(pd.DatetimeIndex(df['Date_idx']))\n",
    "        return df\n",
    "    "
   ]
  },
  {
   "cell_type": "code",
   "execution_count": 119,
   "metadata": {},
   "outputs": [],
   "source": [
    "df = extract_weekday(df)\n",
    "df = clean_route_num_column(df)\n",
    "df = transform_date_format(df)\n",
    "# to find error row index\n",
    "# for i, row in enumerate(df):\n",
    "#     try:\n",
    "#         transform_date_format(row)\n",
    "#     except Exception as e:\n",
    "#         print(f'Error {row} ====> {i}')"
   ]
  },
  {
   "cell_type": "code",
   "execution_count": 92,
   "metadata": {},
   "outputs": [],
   "source": [
    "series = df.resample('7D')"
   ]
  },
  {
   "cell_type": "code",
   "execution_count": 96,
   "metadata": {},
   "outputs": [
    {
     "data": {
      "text/plain": [
       "379018.09"
      ]
     },
     "execution_count": 96,
     "metadata": {},
     "output_type": "execute_result"
    }
   ],
   "source": [
    "series_keys = series.Price.sum().keys()\n",
    "# series_keys['2021-01-13'].get\n",
    "# ['HOOK1', 'BR1', 'BR2', 'BR3', 'FL2', 'FLG', 'RL1', 'RL2', 'RL4', 'RL7', 'RL9', 'RLD', 'RLE', 'RLH', 'RLI', 'RLJ', 'RLK', 'SWG', 'AUSSKIP']\n",
    "df_series = series.get_group('2021-01-13')\n",
    "df_series.Price.sum()"
   ]
  },
  {
   "cell_type": "code",
   "execution_count": null,
   "metadata": {},
   "outputs": [],
   "source": []
  },
  {
   "cell_type": "code",
   "execution_count": null,
   "metadata": {},
   "outputs": [],
   "source": []
  },
  {
   "cell_type": "code",
   "execution_count": null,
   "metadata": {},
   "outputs": [],
   "source": []
  },
  {
   "cell_type": "code",
   "execution_count": null,
   "metadata": {},
   "outputs": [],
   "source": []
  }
 ],
 "metadata": {
  "kernelspec": {
   "display_name": "Python 3",
   "language": "python",
   "name": "python3"
  },
  "language_info": {
   "codemirror_mode": {
    "name": "ipython",
    "version": 3
   },
   "file_extension": ".py",
   "mimetype": "text/x-python",
   "name": "python",
   "nbconvert_exporter": "python",
   "pygments_lexer": "ipython3",
   "version": "3.8.5"
  }
 },
 "nbformat": 4,
 "nbformat_minor": 4
}
